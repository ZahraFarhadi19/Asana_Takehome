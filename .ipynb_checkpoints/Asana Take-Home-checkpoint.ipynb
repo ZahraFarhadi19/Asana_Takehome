{
 "cells": [
  {
   "cell_type": "markdown",
   "metadata": {},
   "source": [
    "# Asana Take-Home Challenge\n",
    "## Finding Adopted Users\n",
    "\n",
    "The purpose of this challenge is to identify the features that best predict the engagement level of users. An **adopted user** is one that has logged in at least 3 times in at least one 7-day period. Naturally, we must then identify all adopted users. \n",
    "\n",
    "Below we have the dataset **users** (with a few extra columns that I evaluated)."
   ]
  },
  {
   "cell_type": "code",
   "execution_count": 1,
   "metadata": {
    "collapsed": true
   },
   "outputs": [],
   "source": [
    "import pandas as pd\n",
    "from datetime import datetime"
   ]
  },
  {
   "cell_type": "code",
   "execution_count": 2,
   "metadata": {
    "collapsed": false
   },
   "outputs": [
    {
     "data": {
      "text/html": [
       "<div>\n",
       "<table border=\"1\" class=\"dataframe\">\n",
       "  <thead>\n",
       "    <tr style=\"text-align: right;\">\n",
       "      <th></th>\n",
       "      <th>time_stamp</th>\n",
       "      <th>user_id</th>\n",
       "      <th>visited</th>\n",
       "      <th>date</th>\n",
       "      <th>day</th>\n",
       "    </tr>\n",
       "  </thead>\n",
       "  <tbody>\n",
       "    <tr>\n",
       "      <th>0</th>\n",
       "      <td>2014-04-22 03:53:30</td>\n",
       "      <td>1</td>\n",
       "      <td>1</td>\n",
       "      <td>2014-04-22</td>\n",
       "      <td>691</td>\n",
       "    </tr>\n",
       "    <tr>\n",
       "      <th>1</th>\n",
       "      <td>2013-11-15 03:45:04</td>\n",
       "      <td>2</td>\n",
       "      <td>1</td>\n",
       "      <td>2013-11-15</td>\n",
       "      <td>533</td>\n",
       "    </tr>\n",
       "    <tr>\n",
       "      <th>2</th>\n",
       "      <td>2013-11-29 03:45:04</td>\n",
       "      <td>2</td>\n",
       "      <td>1</td>\n",
       "      <td>2013-11-29</td>\n",
       "      <td>547</td>\n",
       "    </tr>\n",
       "    <tr>\n",
       "      <th>3</th>\n",
       "      <td>2013-12-09 03:45:04</td>\n",
       "      <td>2</td>\n",
       "      <td>1</td>\n",
       "      <td>2013-12-09</td>\n",
       "      <td>557</td>\n",
       "    </tr>\n",
       "    <tr>\n",
       "      <th>4</th>\n",
       "      <td>2013-12-25 03:45:04</td>\n",
       "      <td>2</td>\n",
       "      <td>1</td>\n",
       "      <td>2013-12-25</td>\n",
       "      <td>573</td>\n",
       "    </tr>\n",
       "  </tbody>\n",
       "</table>\n",
       "</div>"
      ],
      "text/plain": [
       "            time_stamp  user_id  visited        date  day\n",
       "0  2014-04-22 03:53:30        1        1  2014-04-22  691\n",
       "1  2013-11-15 03:45:04        2        1  2013-11-15  533\n",
       "2  2013-11-29 03:45:04        2        1  2013-11-29  547\n",
       "3  2013-12-09 03:45:04        2        1  2013-12-09  557\n",
       "4  2013-12-25 03:45:04        2        1  2013-12-25  573"
      ]
     },
     "execution_count": 2,
     "metadata": {},
     "output_type": "execute_result"
    }
   ],
   "source": [
    "user_engagement_df = pd.read_csv('takehome_user_engagement.csv', encoding = \"ISO-8859-1\")\n",
    "user_engagement_df['date'] = user_engagement_df.time_stamp.apply(lambda x: x[:10])\n",
    "first_day = user_engagement_df.date.min()\n",
    "user_engagement_df['day'] = user_engagement_df.date\\\n",
    "    .apply(lambda x: (pd.to_datetime(x) - pd.to_datetime(first_day)).days)\n",
    "user_engagement_df.head()"
   ]
  },
  {
   "cell_type": "markdown",
   "metadata": {},
   "source": [
    "In the above table, I converted the time_stamp column to a day column, where 0 represents the minimum date found in the DataFrame. Next we will use the day column to evaluate the engagement-level of users. (1 for adopted user & 0 otherwise)"
   ]
  },
  {
   "cell_type": "code",
   "execution_count": 3,
   "metadata": {
    "collapsed": false
   },
   "outputs": [],
   "source": [
    "user_engagement_df = user_engagement_df[['user_id','day']]\n",
    "user_engagement_df = user_engagement_df.sort_values(['user_id','day'])\n",
    "adopted_users = set()\n",
    "for i in range(len(user_engagement_df) - 2):\n",
    "    if user_engagement_df.user_id[i] == user_engagement_df.user_id[i + 1] and \\\n",
    "        user_engagement_df.user_id[i + 1] == user_engagement_df.user_id[i + 2]:\n",
    "            if user_engagement_df.day[i + 2] - user_engagement_df.day[i] < 7:\n",
    "                adopted_users.add(user_engagement_df.user_id[i])"
   ]
  },
  {
   "cell_type": "code",
   "execution_count": 4,
   "metadata": {
    "collapsed": false
   },
   "outputs": [
    {
     "data": {
      "text/html": [
       "<div>\n",
       "<table border=\"1\" class=\"dataframe\">\n",
       "  <thead>\n",
       "    <tr style=\"text-align: right;\">\n",
       "      <th></th>\n",
       "      <th>user_id</th>\n",
       "      <th>adopted user</th>\n",
       "    </tr>\n",
       "  </thead>\n",
       "  <tbody>\n",
       "    <tr>\n",
       "      <th>0</th>\n",
       "      <td>1</td>\n",
       "      <td>0</td>\n",
       "    </tr>\n",
       "    <tr>\n",
       "      <th>1</th>\n",
       "      <td>2</td>\n",
       "      <td>1</td>\n",
       "    </tr>\n",
       "    <tr>\n",
       "      <th>2</th>\n",
       "      <td>3</td>\n",
       "      <td>0</td>\n",
       "    </tr>\n",
       "    <tr>\n",
       "      <th>3</th>\n",
       "      <td>4</td>\n",
       "      <td>0</td>\n",
       "    </tr>\n",
       "    <tr>\n",
       "      <th>4</th>\n",
       "      <td>5</td>\n",
       "      <td>0</td>\n",
       "    </tr>\n",
       "  </tbody>\n",
       "</table>\n",
       "</div>"
      ],
      "text/plain": [
       "   user_id  adopted user\n",
       "0        1             0\n",
       "1        2             1\n",
       "2        3             0\n",
       "3        4             0\n",
       "4        5             0"
      ]
     },
     "execution_count": 4,
     "metadata": {},
     "output_type": "execute_result"
    }
   ],
   "source": [
    "user_engagement_df = user_engagement_df.groupby('user_id').count().reset_index()\n",
    "user_engagement_df['adopted user'] = user_engagement_df.user_id\\\n",
    "    .apply(lambda x: 1 if x in adopted_users else 0)\n",
    "user_engagement_df = user_engagement_df[['user_id', 'adopted user']]\n",
    "user_engagement_df.head()"
   ]
  },
  {
   "cell_type": "markdown",
   "metadata": {},
   "source": [
    "We now have a table that shows us if a user is an adopted user!\n",
    "\n",
    "## Fitting Prediction Model\n",
    "\n",
    "Our next step is to fit a prediction model in order to predict the values of the adopted users table above. I have chosen to use the XGBoost model. \n",
    "\n",
    "Some highlights:\n",
    "\n",
    "1. I have seen XGBoost used to win many Kaggle competitions so it has proven to be a powerful tool for predicting real-world data. \n",
    "2. It can handle sparse training data very well, a useful feature if we want to include categorical data.\n",
    "3. Most importantly, since our goal is to find the most important features in predicting adopted users, XGBoost provides an easy-to-use package for visualizing the relative importance of features in our final traned model. \n",
    "\n",
    "### Cleaning Training Data/Feature Extraction\n",
    "\n",
    "Below we have the untouched training data:"
   ]
  },
  {
   "cell_type": "code",
   "execution_count": 5,
   "metadata": {
    "collapsed": false
   },
   "outputs": [
    {
     "data": {
      "text/html": [
       "<div>\n",
       "<table border=\"1\" class=\"dataframe\">\n",
       "  <thead>\n",
       "    <tr style=\"text-align: right;\">\n",
       "      <th></th>\n",
       "      <th>object_id</th>\n",
       "      <th>creation_time</th>\n",
       "      <th>name</th>\n",
       "      <th>email</th>\n",
       "      <th>creation_source</th>\n",
       "      <th>last_session_creation_time</th>\n",
       "      <th>opted_in_to_mailing_list</th>\n",
       "      <th>enabled_for_marketing_drip</th>\n",
       "      <th>org_id</th>\n",
       "      <th>invited_by_user_id</th>\n",
       "    </tr>\n",
       "  </thead>\n",
       "  <tbody>\n",
       "    <tr>\n",
       "      <th>0</th>\n",
       "      <td>1</td>\n",
       "      <td>2014-04-22 03:53:30</td>\n",
       "      <td>Clausen August</td>\n",
       "      <td>AugustCClausen@yahoo.com</td>\n",
       "      <td>GUEST_INVITE</td>\n",
       "      <td>1.398139e+09</td>\n",
       "      <td>1</td>\n",
       "      <td>0</td>\n",
       "      <td>11</td>\n",
       "      <td>10803.0</td>\n",
       "    </tr>\n",
       "    <tr>\n",
       "      <th>1</th>\n",
       "      <td>2</td>\n",
       "      <td>2013-11-15 03:45:04</td>\n",
       "      <td>Poole Matthew</td>\n",
       "      <td>MatthewPoole@gustr.com</td>\n",
       "      <td>ORG_INVITE</td>\n",
       "      <td>1.396238e+09</td>\n",
       "      <td>0</td>\n",
       "      <td>0</td>\n",
       "      <td>1</td>\n",
       "      <td>316.0</td>\n",
       "    </tr>\n",
       "    <tr>\n",
       "      <th>2</th>\n",
       "      <td>3</td>\n",
       "      <td>2013-03-19 23:14:52</td>\n",
       "      <td>Bottrill Mitchell</td>\n",
       "      <td>MitchellBottrill@gustr.com</td>\n",
       "      <td>ORG_INVITE</td>\n",
       "      <td>1.363735e+09</td>\n",
       "      <td>0</td>\n",
       "      <td>0</td>\n",
       "      <td>94</td>\n",
       "      <td>1525.0</td>\n",
       "    </tr>\n",
       "    <tr>\n",
       "      <th>3</th>\n",
       "      <td>4</td>\n",
       "      <td>2013-05-21 08:09:28</td>\n",
       "      <td>Clausen Nicklas</td>\n",
       "      <td>NicklasSClausen@yahoo.com</td>\n",
       "      <td>GUEST_INVITE</td>\n",
       "      <td>1.369210e+09</td>\n",
       "      <td>0</td>\n",
       "      <td>0</td>\n",
       "      <td>1</td>\n",
       "      <td>5151.0</td>\n",
       "    </tr>\n",
       "    <tr>\n",
       "      <th>4</th>\n",
       "      <td>5</td>\n",
       "      <td>2013-01-17 10:14:20</td>\n",
       "      <td>Raw Grace</td>\n",
       "      <td>GraceRaw@yahoo.com</td>\n",
       "      <td>GUEST_INVITE</td>\n",
       "      <td>1.358850e+09</td>\n",
       "      <td>0</td>\n",
       "      <td>0</td>\n",
       "      <td>193</td>\n",
       "      <td>5240.0</td>\n",
       "    </tr>\n",
       "  </tbody>\n",
       "</table>\n",
       "</div>"
      ],
      "text/plain": [
       "   object_id        creation_time               name  \\\n",
       "0          1  2014-04-22 03:53:30     Clausen August   \n",
       "1          2  2013-11-15 03:45:04      Poole Matthew   \n",
       "2          3  2013-03-19 23:14:52  Bottrill Mitchell   \n",
       "3          4  2013-05-21 08:09:28    Clausen Nicklas   \n",
       "4          5  2013-01-17 10:14:20          Raw Grace   \n",
       "\n",
       "                        email creation_source  last_session_creation_time  \\\n",
       "0    AugustCClausen@yahoo.com    GUEST_INVITE                1.398139e+09   \n",
       "1      MatthewPoole@gustr.com      ORG_INVITE                1.396238e+09   \n",
       "2  MitchellBottrill@gustr.com      ORG_INVITE                1.363735e+09   \n",
       "3   NicklasSClausen@yahoo.com    GUEST_INVITE                1.369210e+09   \n",
       "4          GraceRaw@yahoo.com    GUEST_INVITE                1.358850e+09   \n",
       "\n",
       "   opted_in_to_mailing_list  enabled_for_marketing_drip  org_id  \\\n",
       "0                         1                           0      11   \n",
       "1                         0                           0       1   \n",
       "2                         0                           0      94   \n",
       "3                         0                           0       1   \n",
       "4                         0                           0     193   \n",
       "\n",
       "   invited_by_user_id  \n",
       "0             10803.0  \n",
       "1               316.0  \n",
       "2              1525.0  \n",
       "3              5151.0  \n",
       "4              5240.0  "
      ]
     },
     "execution_count": 5,
     "metadata": {},
     "output_type": "execute_result"
    }
   ],
   "source": [
    "users_df = pd.read_csv('takehome_users.csv', encoding = \"ISO-8859-1\")\n",
    "users_df.head()"
   ]
  },
  {
   "cell_type": "markdown",
   "metadata": {},
   "source": [
    "#### Days Alive\n",
    "\n",
    "First, we see that there is a \"creation time\" (which is in datetime timestamp form) and \"last login\" (which is in unix timestamp form). If we convert both columns to datetimes, then we can find the difference for our first feature: days alive. I would think that the longer the time between account creation and last login, the higher likelihood that the given user is an adopted user. "
   ]
  },
  {
   "cell_type": "code",
   "execution_count": 7,
   "metadata": {
    "collapsed": false
   },
   "outputs": [],
   "source": [
    "import math\n",
    "users_df['last_session_date'] = users_df.last_session_creation_time\\\n",
    "    .apply(lambda x: None if math.isnan(x) \\\n",
    "           else datetime.fromtimestamp(int(x)).strftime('%Y-%m-%d'))\n",
    "users_df['creation_date'] = users_df.creation_time\\\n",
    "    .apply(lambda x: pd.to_datetime(x).strftime('%Y-%m-%d'))\n",
    "users_df['days_alive'] = users_df\\\n",
    "    .apply(lambda x: None if x.last_session_date == None else \\\n",
    "          (pd.to_datetime(x.last_session_date) - \\\n",
    "           pd.to_datetime(x.creation_date)).days + 1, axis = 1)"
   ]
  },
  {
   "cell_type": "markdown",
   "metadata": {},
   "source": [
    "#### Has Last Session?\n",
    "I noticed that a significant number of users have a null last session. I'm not exactly sure what this means but I am guessing that it means an account was created for them, but they never actually logged in, or perhaps they never verified their email. This should be its own feature called \"has_last_session\" (1 if they have logged in, 0 otherwise)"
   ]
  },
  {
   "cell_type": "code",
   "execution_count": 8,
   "metadata": {
    "collapsed": false
   },
   "outputs": [],
   "source": [
    "users_df['has_last_session'] = users_df.days_alive\\\n",
    "    .apply(lambda x: 0 if math.isnan(x) else 1)"
   ]
  },
  {
   "cell_type": "markdown",
   "metadata": {},
   "source": [
    "#### Email Domain\n",
    "\n",
    "Obviously, email addresses are unique for each user, but I noticed that there are 7 dominant domain names: {'gmail', 'yahoo', 'jourrapide', 'cuvo', 'gustr','hotmail'} Perhaps this would be an interesting feature to explore. Here we will have 7 new columns: 1 for each common domain, and 1 for \"not_common\"."
   ]
  },
  {
   "cell_type": "code",
   "execution_count": 9,
   "metadata": {
    "collapsed": false
   },
   "outputs": [],
   "source": [
    "domains = ['gmail', 'yahoo', 'jourrapide', 'cuvo', 'gustr', 'hotmail']\n",
    "users_df['email_domain'] = users_df.email\\\n",
    "    .apply(lambda x: x[x.index('@') + 1:-4] \\\n",
    "           if x[x.index('@') + 1:-4] in domains else 'other')\n",
    "email_features = pd.get_dummies(users_df['email_domain'])\n",
    "users_df = pd.concat([users_df, email_features], axis=1)"
   ]
  },
  {
   "cell_type": "markdown",
   "metadata": {},
   "source": [
    "#### Creation Source\n",
    "This is an easy one. Since this takes 1 of 5 values, we simply create a feature for each value:"
   ]
  },
  {
   "cell_type": "code",
   "execution_count": 10,
   "metadata": {
    "collapsed": false
   },
   "outputs": [],
   "source": [
    "creation_source_features = pd.get_dummies(users_df.creation_source)\n",
    "users_df = pd.concat([users_df, creation_source_features], axis=1)"
   ]
  },
  {
   "cell_type": "markdown",
   "metadata": {},
   "source": [
    "#### Email List/Marketing Drip\n",
    "These two columns are already perfect for training so we don't need to do anything for these.\n",
    "\n",
    "#### Organziation ID\n",
    "This feature is a bit tricky. Each organization is represented by an integer, but the relative values of the integers mean nothing, which means we would have way too many features if we tried to dummy this. However we could group by the orgization number and then convert the organization to the number of people who use Asana within the organization. That way we can stil use this valuable information. Perhaps we can revisit making features for every organization later on, but for now I will only use organization size."
   ]
  },
  {
   "cell_type": "code",
   "execution_count": 11,
   "metadata": {
    "collapsed": false
   },
   "outputs": [],
   "source": [
    "org_size = users_df.groupby('org_id').count().sort_values('email', ascending=False).object_id\n",
    "users_df['organzation_size'] = users_df.org_id.apply(lambda x: org_size[x])"
   ]
  },
  {
   "cell_type": "markdown",
   "metadata": {},
   "source": [
    "#### Invited By User ID\n",
    "For invitation user id, I think the important information is **if** a user was invited by someone, not who the person is. This makes the feature extraction much easier (1's and 0's). "
   ]
  },
  {
   "cell_type": "code",
   "execution_count": 12,
   "metadata": {
    "collapsed": false
   },
   "outputs": [],
   "source": [
    "users_df['was_invited'] = users_df.invited_by_user_id\\\n",
    "    .apply(lambda x: 0 if math.isnan(x) else 1)"
   ]
  },
  {
   "cell_type": "markdown",
   "metadata": {},
   "source": [
    "#### Review Of Extracted Features\n",
    "Below I will put the finishing touches on our training data, almost done! In this step I noticed that we have user data for users with no engagement data, so I took them out of the training sample. "
   ]
  },
  {
   "cell_type": "code",
   "execution_count": 13,
   "metadata": {
    "collapsed": false
   },
   "outputs": [],
   "source": [
    "users_df = users_df.drop(['creation_time',\n",
    "                          'name', \n",
    "                          'email', \n",
    "                          'creation_source',\n",
    "                          'last_session_creation_time',\n",
    "                          'org_id', \n",
    "                          'invited_by_user_id',\n",
    "                          'last_session_date', \n",
    "                          'creation_date',\n",
    "                          'email_domain'], 1)"
   ]
  },
  {
   "cell_type": "code",
   "execution_count": 14,
   "metadata": {
    "collapsed": false,
    "scrolled": true
   },
   "outputs": [
    {
     "name": "stderr",
     "output_type": "stream",
     "text": [
      "/Users/edwardcai/anaconda/lib/python3.5/site-packages/ipykernel/__main__.py:6: SettingWithCopyWarning: \n",
      "A value is trying to be set on a copy of a slice from a DataFrame.\n",
      "Try using .loc[row_indexer,col_indexer] = value instead\n",
      "\n",
      "See the caveats in the documentation: http://pandas.pydata.org/pandas-docs/stable/indexing.html#indexing-view-versus-copy\n"
     ]
    },
    {
     "data": {
      "text/html": [
       "<div>\n",
       "<table border=\"1\" class=\"dataframe\">\n",
       "  <thead>\n",
       "    <tr style=\"text-align: right;\">\n",
       "      <th></th>\n",
       "      <th>object_id</th>\n",
       "      <th>opted_in_to_mailing_list</th>\n",
       "      <th>enabled_for_marketing_drip</th>\n",
       "      <th>days_alive</th>\n",
       "      <th>has_last_session</th>\n",
       "      <th>cuvo</th>\n",
       "      <th>gmail</th>\n",
       "      <th>gustr</th>\n",
       "      <th>hotmail</th>\n",
       "      <th>jourrapide</th>\n",
       "      <th>other</th>\n",
       "      <th>yahoo</th>\n",
       "      <th>GUEST_INVITE</th>\n",
       "      <th>ORG_INVITE</th>\n",
       "      <th>PERSONAL_PROJECTS</th>\n",
       "      <th>SIGNUP</th>\n",
       "      <th>SIGNUP_GOOGLE_AUTH</th>\n",
       "      <th>organzation_size</th>\n",
       "      <th>was_invited</th>\n",
       "      <th>is_adopted_user</th>\n",
       "    </tr>\n",
       "  </thead>\n",
       "  <tbody>\n",
       "    <tr>\n",
       "      <th>0</th>\n",
       "      <td>1</td>\n",
       "      <td>1</td>\n",
       "      <td>0</td>\n",
       "      <td>0.0</td>\n",
       "      <td>1</td>\n",
       "      <td>0.0</td>\n",
       "      <td>0.0</td>\n",
       "      <td>0.0</td>\n",
       "      <td>0.0</td>\n",
       "      <td>0.0</td>\n",
       "      <td>0.0</td>\n",
       "      <td>1.0</td>\n",
       "      <td>1.0</td>\n",
       "      <td>0.0</td>\n",
       "      <td>0.0</td>\n",
       "      <td>0.0</td>\n",
       "      <td>0.0</td>\n",
       "      <td>75</td>\n",
       "      <td>1</td>\n",
       "      <td>0</td>\n",
       "    </tr>\n",
       "    <tr>\n",
       "      <th>1</th>\n",
       "      <td>2</td>\n",
       "      <td>0</td>\n",
       "      <td>0</td>\n",
       "      <td>136.0</td>\n",
       "      <td>1</td>\n",
       "      <td>0.0</td>\n",
       "      <td>0.0</td>\n",
       "      <td>1.0</td>\n",
       "      <td>0.0</td>\n",
       "      <td>0.0</td>\n",
       "      <td>0.0</td>\n",
       "      <td>0.0</td>\n",
       "      <td>0.0</td>\n",
       "      <td>1.0</td>\n",
       "      <td>0.0</td>\n",
       "      <td>0.0</td>\n",
       "      <td>0.0</td>\n",
       "      <td>233</td>\n",
       "      <td>1</td>\n",
       "      <td>1</td>\n",
       "    </tr>\n",
       "    <tr>\n",
       "      <th>2</th>\n",
       "      <td>3</td>\n",
       "      <td>0</td>\n",
       "      <td>0</td>\n",
       "      <td>1.0</td>\n",
       "      <td>1</td>\n",
       "      <td>0.0</td>\n",
       "      <td>0.0</td>\n",
       "      <td>1.0</td>\n",
       "      <td>0.0</td>\n",
       "      <td>0.0</td>\n",
       "      <td>0.0</td>\n",
       "      <td>0.0</td>\n",
       "      <td>0.0</td>\n",
       "      <td>1.0</td>\n",
       "      <td>0.0</td>\n",
       "      <td>0.0</td>\n",
       "      <td>0.0</td>\n",
       "      <td>32</td>\n",
       "      <td>1</td>\n",
       "      <td>0</td>\n",
       "    </tr>\n",
       "    <tr>\n",
       "      <th>3</th>\n",
       "      <td>4</td>\n",
       "      <td>0</td>\n",
       "      <td>0</td>\n",
       "      <td>2.0</td>\n",
       "      <td>1</td>\n",
       "      <td>0.0</td>\n",
       "      <td>0.0</td>\n",
       "      <td>0.0</td>\n",
       "      <td>0.0</td>\n",
       "      <td>0.0</td>\n",
       "      <td>0.0</td>\n",
       "      <td>1.0</td>\n",
       "      <td>1.0</td>\n",
       "      <td>0.0</td>\n",
       "      <td>0.0</td>\n",
       "      <td>0.0</td>\n",
       "      <td>0.0</td>\n",
       "      <td>233</td>\n",
       "      <td>1</td>\n",
       "      <td>0</td>\n",
       "    </tr>\n",
       "    <tr>\n",
       "      <th>4</th>\n",
       "      <td>5</td>\n",
       "      <td>0</td>\n",
       "      <td>0</td>\n",
       "      <td>6.0</td>\n",
       "      <td>1</td>\n",
       "      <td>0.0</td>\n",
       "      <td>0.0</td>\n",
       "      <td>0.0</td>\n",
       "      <td>0.0</td>\n",
       "      <td>0.0</td>\n",
       "      <td>0.0</td>\n",
       "      <td>1.0</td>\n",
       "      <td>1.0</td>\n",
       "      <td>0.0</td>\n",
       "      <td>0.0</td>\n",
       "      <td>0.0</td>\n",
       "      <td>0.0</td>\n",
       "      <td>16</td>\n",
       "      <td>1</td>\n",
       "      <td>0</td>\n",
       "    </tr>\n",
       "  </tbody>\n",
       "</table>\n",
       "</div>"
      ],
      "text/plain": [
       "   object_id  opted_in_to_mailing_list  enabled_for_marketing_drip  \\\n",
       "0          1                         1                           0   \n",
       "1          2                         0                           0   \n",
       "2          3                         0                           0   \n",
       "3          4                         0                           0   \n",
       "4          5                         0                           0   \n",
       "\n",
       "   days_alive  has_last_session  cuvo  gmail  gustr  hotmail  jourrapide  \\\n",
       "0         0.0                 1   0.0    0.0    0.0      0.0         0.0   \n",
       "1       136.0                 1   0.0    0.0    1.0      0.0         0.0   \n",
       "2         1.0                 1   0.0    0.0    1.0      0.0         0.0   \n",
       "3         2.0                 1   0.0    0.0    0.0      0.0         0.0   \n",
       "4         6.0                 1   0.0    0.0    0.0      0.0         0.0   \n",
       "\n",
       "   other  yahoo  GUEST_INVITE  ORG_INVITE  PERSONAL_PROJECTS  SIGNUP  \\\n",
       "0    0.0    1.0           1.0         0.0                0.0     0.0   \n",
       "1    0.0    0.0           0.0         1.0                0.0     0.0   \n",
       "2    0.0    0.0           0.0         1.0                0.0     0.0   \n",
       "3    0.0    1.0           1.0         0.0                0.0     0.0   \n",
       "4    0.0    1.0           1.0         0.0                0.0     0.0   \n",
       "\n",
       "   SIGNUP_GOOGLE_AUTH  organzation_size  was_invited  is_adopted_user  \n",
       "0                 0.0                75            1                0  \n",
       "1                 0.0               233            1                1  \n",
       "2                 0.0                32            1                0  \n",
       "3                 0.0               233            1                0  \n",
       "4                 0.0                16            1                0  "
      ]
     },
     "execution_count": 14,
     "metadata": {},
     "output_type": "execute_result"
    }
   ],
   "source": [
    "temp = user_engagement_df.set_index('user_id')\n",
    "user_engagement_series = pd.Series(temp['adopted user'], index=temp.index)\n",
    "engagement_data_users = set(user_engagement_series.index)\n",
    "users_df_complete = users_df[users_df.object_id.isin(engagement_data_users)]\n",
    "\n",
    "users_df_complete['is_adopted_user'] = users_df_complete.object_id\\\n",
    "    .apply(lambda x: user_engagement_series[x])\n",
    "users_df_complete.head()"
   ]
  },
  {
   "cell_type": "markdown",
   "metadata": {},
   "source": [
    "### Training/Testing GXBoost Model (Boosted Decision Tree)\n",
    "\n",
    "Here we will use 5-fold cross validation to test the predictive power of our model. (I know it's not part of the prompt but I'm very curious!) It will also help determine if our feature importance is accurate in the next section. "
   ]
  },
  {
   "cell_type": "code",
   "execution_count": 42,
   "metadata": {
    "collapsed": false
   },
   "outputs": [
    {
     "name": "stdout",
     "output_type": "stream",
     "text": [
      "GXBoost: cross validation: 0.88 (+/- 0.07)\n"
     ]
    }
   ],
   "source": [
    "import xgboost as xgb\n",
    "import numpy as np\n",
    "from xgboost import XGBClassifier\n",
    "from matplotlib import pyplot\n",
    "from sklearn import cross_validation\n",
    "#from sklearn import naive_bayes\n",
    "\n",
    "training_data = users_df_complete.as_matrix()\n",
    "X = training_data[:,:-1]\n",
    "Y = training_data[:,-1:].transpose()[0]\n",
    "\n",
    "model = XGBClassifier()\n",
    "#model = naive_bayes.GaussianNB()\n",
    "\n",
    "scores = cross_validation.cross_val_score(model, \\\n",
    "                                          X, \\\n",
    "                                          Y, \\\n",
    "                                          cv=5, \\\n",
    "                                          scoring='f1')\n",
    "print(\"GXBoost: cross validation: %0.2f (+/- %0.2f)\" %\\\n",
    "      (scores.mean(), scores.std() * 2))"
   ]
  },
  {
   "cell_type": "markdown",
   "metadata": {
    "collapsed": true
   },
   "source": [
    "Given there are 1600 adopted users, with 8800 total users in the training set, we would have been ~82% accurate if we had predicted false for all users. An increase in 6% (I measured 88% with XGB) accuracy seems modest, but it's still better than predicting with just a prior. (I also tried Naive Bayes, which gave 90% accuracy, but it is more difficult to interpret feature importance with Naive Bayes)\n",
    "\n",
    "### Finding Most Important Features\n",
    "\n",
    "Here we are finally able to see the importance of each feature. One of the reasons that I chose XGBoost is because it allows us to easilly plot the most important features. "
   ]
  },
  {
   "cell_type": "code",
   "execution_count": 50,
   "metadata": {
    "collapsed": false
   },
   "outputs": [
    {
     "data": {
      "text/plain": [
       "<matplotlib.axes._subplots.AxesSubplot at 0x11b2a2f60>"
      ]
     },
     "execution_count": 50,
     "metadata": {},
     "output_type": "execute_result"
    },
    {
     "data": {
      "image/png": "[encoded data removed]",
      "text/plain": [
       "<matplotlib.figure.Figure at 0x11b7e16d8>"
      ]
     },
     "metadata": {},
     "output_type": "display_data"
    }
   ],
   "source": [
    "%matplotlib inline\n",
    "import seaborn as sns\n",
    "import matplotlib.pyplot as plt\n",
    "sns.set_style(\"white\")\n",
    "model = XGBClassifier()\n",
    "model.fit(X, Y)\n",
    "\n",
    "importance_series = pd.Series(model.feature_importances_, \\\n",
    "                              index=users_df_complete.columns[:-1])\n",
    "\n",
    "fig = plt.figure(figsize=(13, 8))\n",
    "fig.suptitle('XGBoost Model Feature Importance', fontsize=25)\n",
    "plt.xlabel(\"Importance %\", fontsize=20)\n",
    "plt.ylabel(\"Feature\", fontsize=20)\n",
    "importance_series.plot(kind='barh', alpha = 0.5)"
   ]
  },
  {
   "cell_type": "markdown",
   "metadata": {},
   "source": [
    "## Conclusions\n",
    "After a lengthy data-cleaning process, we were able to quickly run some models and we were able to get some predictive power! As expected, the most important feature was days_alive, i.e. the difference between the last time the user logged into his/her account and the creation date. This is due to two reasons:\n",
    "\n",
    "1. Adopted users (those who use the product) probably use Asana more often than users who who don't, which means they probably log in more frequently. \n",
    "2. A large days_alive metric also means that the user created his/her account a long time ago, which means that have had many opportunities to log in 3 times in a 7 day period. \n",
    "\n",
    "In addition to days_alive, there were 4 more features that were significant: object id, gmail, jourrapide, and organization size. \n",
    "\n",
    "1. object id: A smaller id means that the user was created before a user of a higher object id, which means those with higher ids are more likely to have Asana for a long time. \n",
    "2. gmail: our model says that users with gmail accounts are more likely to be adopted users than those without. \n",
    "3. jourrapide: our model says that those with jourrapide are less likely to be adopted users, probably because they are fake email accounts. \n",
    "4. organization size: our model says that users who belong to large organizations are more likely to be adopted users. I would guess this is the case because Asana has more customers/is more useful in larger companies. \n",
    "\n",
    "That's it! Hope you enjoyed reading my take-home challenge!"
   ]
  }
 ],
 "metadata": {
  "anaconda-cloud": {},
  "kernelspec": {
   "display_name": "Python [conda root]",
   "language": "python",
   "name": "conda-root-py"
  },
  "language_info": {
   "codemirror_mode": {
    "name": "ipython",
    "version": 3
   },
   "file_extension": ".py",
   "mimetype": "text/x-python",
   "name": "python",
   "nbconvert_exporter": "python",
   "pygments_lexer": "ipython3",
   "version": "3.5.2"
  }
 },
 "nbformat": 4,
 "nbformat_minor": 1
}
